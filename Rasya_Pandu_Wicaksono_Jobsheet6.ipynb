{
  "nbformat": 4,
  "nbformat_minor": 0,
  "metadata": {
    "colab": {
      "provenance": [],
      "authorship_tag": "ABX9TyPP2aeA+oOtL2YC4TfBD2e9",
      "include_colab_link": true
    },
    "kernelspec": {
      "name": "python3",
      "display_name": "Python 3"
    },
    "language_info": {
      "name": "python"
    }
  },
  "cells": [
    {
      "cell_type": "markdown",
      "metadata": {
        "id": "view-in-github",
        "colab_type": "text"
      },
      "source": [
        "<a href=\"https://colab.research.google.com/github/Rynnsya/Jobsheet-06-List-Dimensi-1-dan-Dimensi-2-/blob/main/Rasya_Pandu_Wicaksono_Jobsheet6.ipynb\" target=\"_parent\"><img src=\"https://colab.research.google.com/assets/colab-badge.svg\" alt=\"Open In Colab\"/></a>"
      ]
    },
    {
      "cell_type": "markdown",
      "source": [
        "Praktikum 1 Membuat dan Mengakses List ID"
      ],
      "metadata": {
        "id": "gmETzoJZG3Xi"
      }
    },
    {
      "cell_type": "code",
      "execution_count": 1,
      "metadata": {
        "colab": {
          "base_uri": "https://localhost:8080/"
        },
        "id": "Qc-L0RR2E237",
        "outputId": "f63c2af8-10a2-4788-a2d8-f8b9b7b08d12"
      },
      "outputs": [
        {
          "output_type": "stream",
          "name": "stdout",
          "text": [
            "Andi\n",
            "Budi\n",
            "Cici\n"
          ]
        }
      ],
      "source": [
        "mahasiswa = [\"Andi\", \"Budi\", \"Cici\"]\n",
        "\n",
        "print(mahasiswa[0])   # Andi\n",
        "print(mahasiswa[1])   # Budi\n",
        "print(mahasiswa[-1])  # Cici"
      ]
    },
    {
      "cell_type": "markdown",
      "source": [
        "Praktikum 2 Update dan Operasi Dasar List"
      ],
      "metadata": {
        "id": "k8t5pAKWG5mZ"
      }
    },
    {
      "cell_type": "code",
      "source": [
        "nilai = [85, 90, 78]\n",
        "\n",
        "nilai[1] = 95\n",
        "nilai.append(100)\n",
        "nilai.remove(78)\n",
        "\n",
        "print(nilai)"
      ],
      "metadata": {
        "colab": {
          "base_uri": "https://localhost:8080/"
        },
        "id": "61DN1VDBG6bg",
        "outputId": "3c8ec6aa-62f5-4dd4-e3a9-2d9f1978839f"
      },
      "execution_count": 2,
      "outputs": [
        {
          "output_type": "stream",
          "name": "stdout",
          "text": [
            "[85, 95, 100]\n"
          ]
        }
      ]
    },
    {
      "cell_type": "markdown",
      "source": [
        "Praktikum 3 Slicing List"
      ],
      "metadata": {
        "id": "No5QHv0CG622"
      }
    },
    {
      "cell_type": "code",
      "source": [
        "nilai = [85, 90, 78, 92, 88]\n",
        "\n",
        "print(nilai[0:3])\n",
        "print(nilai[2:])\n",
        "print(nilai[:3])"
      ],
      "metadata": {
        "colab": {
          "base_uri": "https://localhost:8080/"
        },
        "id": "9vRF-Q03G7jp",
        "outputId": "e8826ca1-2452-44df-ed18-51fd31e39c28"
      },
      "execution_count": 3,
      "outputs": [
        {
          "output_type": "stream",
          "name": "stdout",
          "text": [
            "[85, 90, 78]\n",
            "[78, 92, 88]\n",
            "[85, 90, 78]\n"
          ]
        }
      ]
    },
    {
      "cell_type": "markdown",
      "source": [
        "Praktikum 4 List 2D ( Matriks )"
      ],
      "metadata": {
        "id": "G3f6a-dDJMNs"
      }
    },
    {
      "cell_type": "code",
      "source": [
        "matriks = [\n",
        "    [1, 2, 3],\n",
        "    [4, 5, 6],\n",
        "    [7, 8, 9]\n",
        "]\n",
        "\n",
        "print(matriks[0][0])\n",
        "print(matriks[1][2])\n",
        "print(matriks[2])"
      ],
      "metadata": {
        "colab": {
          "base_uri": "https://localhost:8080/"
        },
        "id": "kkp9S--SJO-f",
        "outputId": "1a86897e-0105-4c5f-c18b-43cafa686f80"
      },
      "execution_count": 4,
      "outputs": [
        {
          "output_type": "stream",
          "name": "stdout",
          "text": [
            "1\n",
            "6\n",
            "[7, 8, 9]\n"
          ]
        }
      ]
    },
    {
      "cell_type": "markdown",
      "source": [
        "Praktikum 5 Operasi pada List 2D"
      ],
      "metadata": {
        "id": "GNPjN24iJPmH"
      }
    },
    {
      "cell_type": "code",
      "source": [
        "A = [[1, 2, 3], [4, 5, 6]]\n",
        "B = [[7, 8, 9], [10, 11, 12]]\n",
        "C = []\n",
        "\n",
        "for i in range(len(A)):\n",
        "    baris = []\n",
        "    for j in range(len(A[0])):\n",
        "        baris.append(A[i][j] + B[i][j])\n",
        "    C.append(baris)\n",
        "\n",
        "print(C)"
      ],
      "metadata": {
        "colab": {
          "base_uri": "https://localhost:8080/"
        },
        "id": "iE2kVmu5JQCM",
        "outputId": "4477b425-9bf0-453e-fd90-12e1603a985c"
      },
      "execution_count": 5,
      "outputs": [
        {
          "output_type": "stream",
          "name": "stdout",
          "text": [
            "[[8, 10, 12], [14, 16, 18]]\n"
          ]
        }
      ]
    },
    {
      "cell_type": "markdown",
      "source": [
        "Praktikum 6 Studi Kasus : Pengelolaan Nilai Mahasiswa"
      ],
      "metadata": {
        "id": "0dDHXPbPJQQs"
      }
    },
    {
      "cell_type": "code",
      "source": [
        "nilai = [\n",
        "    [80, 90, 85],\n",
        "    [70, 75, 80],\n",
        "    [88, 92, 84]\n",
        "]\n",
        "\n",
        "for i, baris in enumerate(nilai, start=1):\n",
        "    rata = sum(baris) / len(baris)\n",
        "    print(f\"Rata-rata mahasiswa {i}: {rata:.2f}\")"
      ],
      "metadata": {
        "colab": {
          "base_uri": "https://localhost:8080/"
        },
        "id": "6AGihaNBJ61h",
        "outputId": "da53c513-ab49-4631-9e61-e3106b1fb72b"
      },
      "execution_count": 6,
      "outputs": [
        {
          "output_type": "stream",
          "name": "stdout",
          "text": [
            "Rata-rata mahasiswa 1: 85.00\n",
            "Rata-rata mahasiswa 2: 75.00\n",
            "Rata-rata mahasiswa 3: 88.00\n"
          ]
        }
      ]
    },
    {
      "cell_type": "markdown",
      "source": [
        "Penugasan 3 Akses Elemen List"
      ],
      "metadata": {
        "id": "UiUnyK4XKZUj"
      }
    },
    {
      "cell_type": "code",
      "source": [
        "mahasiswa = [\"Andi\", \"Budi\", \"Cici\", \"Dina\", \"Eko\"]\n",
        "\n",
        "print(\"Nama pertama :\", mahasiswa[0])\n",
        "print(\"Nama terakhir :\", mahasiswa[-1])\n",
        "print(\"Nama pada indeks ke-2 :\", mahasiswa[2])"
      ],
      "metadata": {
        "colab": {
          "base_uri": "https://localhost:8080/"
        },
        "id": "XrjoLvBcKcdF",
        "outputId": "e4e920b1-65d5-4349-f80b-3cc9024fb7d2"
      },
      "execution_count": 7,
      "outputs": [
        {
          "output_type": "stream",
          "name": "stdout",
          "text": [
            "Nama pertama : Andi\n",
            "Nama terakhir : Eko\n",
            "Nama pada indeks ke-2 : Cici\n"
          ]
        }
      ]
    },
    {
      "cell_type": "markdown",
      "source": [
        "Penugasan 4 Operasi Dasar List"
      ],
      "metadata": {
        "id": "2BN5NKXWKc4i"
      }
    },
    {
      "cell_type": "code",
      "source": [
        "# Membuat list awal\n",
        "nilai = [70, 75, 80]\n",
        "\n",
        "# Ubah nilai kedua (indeks 1) menjadi 85\n",
        "nilai[1] = 85\n",
        "\n",
        "# Tambahkan nilai 90 ke dalam list\n",
        "nilai.append(90)\n",
        "\n",
        "# Hapus nilai 70 dari list\n",
        "nilai.remove(70)\n",
        "\n",
        "# Cetak hasil akhir\n",
        "print(nilai)"
      ],
      "metadata": {
        "colab": {
          "base_uri": "https://localhost:8080/"
        },
        "id": "DXUR30xJKez1",
        "outputId": "bae721ee-2c2e-47f2-e098-cc2e22813dba"
      },
      "execution_count": 8,
      "outputs": [
        {
          "output_type": "stream",
          "name": "stdout",
          "text": [
            "[85, 80, 90]\n"
          ]
        }
      ]
    },
    {
      "cell_type": "markdown",
      "source": [
        "Penugasan 5 Slicing List"
      ],
      "metadata": {
        "id": "pQSmrKVsKfOw"
      }
    },
    {
      "cell_type": "code",
      "source": [
        "# Membuat list angka dari 1 sampai 10\n",
        "angka = list(range(1, 11))\n",
        "\n",
        "# Menampilkan 3 elemen pertama\n",
        "print(\"3 elemen pertama:\", angka[:3])\n",
        "\n",
        "# Menampilkan 4 elemen terakhir\n",
        "print(\"4 elemen terakhir:\", angka[-4:])\n",
        "\n",
        "# Menampilkan elemen dengan indeks genap saja\n",
        "print(\"Elemen dengan indeks genap:\", angka[::2])"
      ],
      "metadata": {
        "colab": {
          "base_uri": "https://localhost:8080/"
        },
        "id": "ESNI1ApOKg2P",
        "outputId": "8a98eaa1-f6ef-4f7a-9da9-838c2d0ebb4d"
      },
      "execution_count": 9,
      "outputs": [
        {
          "output_type": "stream",
          "name": "stdout",
          "text": [
            "3 elemen pertama: [1, 2, 3]\n",
            "4 elemen terakhir: [7, 8, 9, 10]\n",
            "Elemen dengan indeks genap: [1, 3, 5, 7, 9]\n"
          ]
        }
      ]
    },
    {
      "cell_type": "markdown",
      "source": [
        "Penugasan 6 List 2D - Matriks"
      ],
      "metadata": {
        "id": "j468hAQGKhWw"
      }
    },
    {
      "cell_type": "code",
      "source": [
        "matriks = [\n",
        "    [1, 2, 3],\n",
        "    [4, 5, 6]\n",
        "]\n",
        "\n",
        "print(\"Baris pertama kolom kedua:\", matriks[0][1])\n",
        "\n",
        "print(\"Baris kedua kolom ketiga:\", matriks[1][2])\n",
        "\n",
        "print(\"Seluruh baris pertama:\", matriks[0])"
      ],
      "metadata": {
        "colab": {
          "base_uri": "https://localhost:8080/"
        },
        "id": "wuuBlUCGKj4d",
        "outputId": "fd9d2d17-45a9-4809-fdaa-a69727331d36"
      },
      "execution_count": 10,
      "outputs": [
        {
          "output_type": "stream",
          "name": "stdout",
          "text": [
            "Baris pertama kolom kedua: 2\n",
            "Baris kedua kolom ketiga: 6\n",
            "Seluruh baris pertama: [1, 2, 3]\n"
          ]
        }
      ]
    },
    {
      "cell_type": "markdown",
      "source": [
        "Penugasan 7 Operasi Matriks 2D"
      ],
      "metadata": {
        "id": "mpjkmQy8KkXx"
      }
    },
    {
      "cell_type": "code",
      "source": [
        "A = [\n",
        "    [1, 2],\n",
        "    [3, 4]\n",
        "]\n",
        "\n",
        "B = [\n",
        "    [5, 6],\n",
        "    [7, 8]\n",
        "]\n",
        "\n",
        "hasil = [\n",
        "    [A[0][0] + B[0][0], A[0][1] + B[0][1]],\n",
        "    [A[1][0] + B[1][0], A[1][1] + B[1][1]]\n",
        "]\n",
        "\n",
        "print(\"Matriks A:\")\n",
        "print(A)\n",
        "print(\"Matriks B:\")\n",
        "print(B)\n",
        "print(\"Hasil penjumlahan A + B:\")\n",
        "print(hasil)"
      ],
      "metadata": {
        "colab": {
          "base_uri": "https://localhost:8080/"
        },
        "id": "j8pZ0BEJKmrV",
        "outputId": "d0c2f79c-63ba-4a32-89d1-6ea479812ac9"
      },
      "execution_count": 11,
      "outputs": [
        {
          "output_type": "stream",
          "name": "stdout",
          "text": [
            "Matriks A:\n",
            "[[1, 2], [3, 4]]\n",
            "Matriks B:\n",
            "[[5, 6], [7, 8]]\n",
            "Hasil penjumlahan A + B:\n",
            "[[6, 8], [10, 12]]\n"
          ]
        }
      ]
    },
    {
      "cell_type": "markdown",
      "source": [
        "Penugasan 8 Rata - rata Nilai Mahasiswa"
      ],
      "metadata": {
        "id": "hGZhjgZjKoLk"
      }
    },
    {
      "cell_type": "code",
      "source": [
        "nilai = [\n",
        "    [75, 80, 85],\n",
        "    [60, 70, 65],\n",
        "    [90, 95, 92]\n",
        "]\n",
        "\n",
        "for i in range(len(nilai)):\n",
        "    rata_rata = sum(nilai[i]) / len(nilai[i])\n",
        "    print(f\"Rata-rata mahasiswa {i+1}: {rata_rata:.2f}\")"
      ],
      "metadata": {
        "colab": {
          "base_uri": "https://localhost:8080/"
        },
        "id": "R2D7LxF0KrIH",
        "outputId": "21673b5d-e155-415d-f1e9-c0e5e6830e54"
      },
      "execution_count": 12,
      "outputs": [
        {
          "output_type": "stream",
          "name": "stdout",
          "text": [
            "Rata-rata mahasiswa 1: 80.00\n",
            "Rata-rata mahasiswa 2: 65.00\n",
            "Rata-rata mahasiswa 3: 92.33\n"
          ]
        }
      ]
    },
    {
      "cell_type": "markdown",
      "source": [
        "Penugasan 9 Studi Kasus - Data Toko"
      ],
      "metadata": {
        "id": "UYWaz7ZIKrns"
      }
    },
    {
      "cell_type": "code",
      "source": [
        "stok = [\n",
        "    [\"Buku\", 20],\n",
        "    [\"Pulpen\", 35],\n",
        "    [\"Penghapus\", 15]\n",
        "]\n",
        "\n",
        "print(\"Daftar stok barang:\")\n",
        "for barang in stok:\n",
        "    print(f\"{barang[0]}: {barang[1]}\")\n",
        "\n",
        "terbanyak = stok[0]\n",
        "for barang in stok:\n",
        "    if barang[1] > terbanyak[1]:\n",
        "        terbanyak = barang\n",
        "\n",
        "print(f\"\\nBarang dengan stok terbanyak: {terbanyak[0]} ({terbanyak[1]} buah)\")"
      ],
      "metadata": {
        "colab": {
          "base_uri": "https://localhost:8080/"
        },
        "id": "hjxyApR9Kt4z",
        "outputId": "5a5781a6-acff-4cf7-b1d1-a39d2e7af549"
      },
      "execution_count": 13,
      "outputs": [
        {
          "output_type": "stream",
          "name": "stdout",
          "text": [
            "Daftar stok barang:\n",
            "Buku: 20\n",
            "Pulpen: 35\n",
            "Penghapus: 15\n",
            "\n",
            "Barang dengan stok terbanyak: Pulpen (35 buah)\n"
          ]
        }
      ]
    }
  ]
}